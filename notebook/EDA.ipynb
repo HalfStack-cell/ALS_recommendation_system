{
 "cells": [
  {
   "cell_type": "code",
   "execution_count": null,
   "metadata": {},
   "outputs": [],
   "source": [
    "import pandas as pd\n",
    "import matplotlib.pyplot as plt\n",
    "import seaborn as sns\n",
    "\n",
    "# Load the dataset\n",
    "courses_df = pd.read_csv('../data/Coursera.csv')\n",
    "\n",
    "# Display basic information\n",
    "courses_df.info()\n",
    "\n",
    "# Display the first few rows\n",
    "courses_df.head()\n",
    "\n",
    "# Check for missing values\n",
    "courses_df.isnull().sum()\n",
    "\n",
    "# Basic statistics\n",
    "courses_df.describe()\n",
    "\n",
    "# Plotting some distributions\n",
    "plt.figure(figsize=(10, 6))\n",
    "sns.histplot(courses_df['rating'], bins=20, kde=True)\n",
    "plt.title('Distribution of Course Ratings')\n",
    "plt.show()\n",
    "\n",
    "plt.figure(figsize=(10, 6))\n",
    "sns.countplot(y=courses_df['partner'])\n",
    "plt.title('Distribution of Courses by Partner')\n",
    "plt.show()\n",
    "\n",
    "plt.figure(figsize=(10, 6))\n",
    "sns.countplot(y=courses_df['level'])\n",
    "plt.title('Distribution of Courses by Level')\n",
    "plt.show()\n"
   ]
  }
 ],
 "metadata": {
  "language_info": {
   "name": "python"
  }
 },
 "nbformat": 4,
 "nbformat_minor": 2
}
